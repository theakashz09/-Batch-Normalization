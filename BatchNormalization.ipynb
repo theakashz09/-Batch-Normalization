{
  "nbformat": 4,
  "nbformat_minor": 0,
  "metadata": {
    "colab": {
      "provenance": []
    },
    "kernelspec": {
      "name": "python3",
      "display_name": "Python 3"
    },
    "language_info": {
      "name": "python"
    }
  },
  "cells": [
    {
      "cell_type": "code",
      "execution_count": null,
      "metadata": {
        "id": "alpj4wtLLPq0"
      },
      "outputs": [],
      "source": []
    },
    {
      "cell_type": "markdown",
      "source": [
        "###Q1. Theory and ConceptsU"
      ],
      "metadata": {
        "id": "Cfl0j_ijLW-d"
      }
    },
    {
      "cell_type": "markdown",
      "source": [
        "1. Explain the concept of batch normalization in the context of Artificial Neural Network.\n",
        "\n",
        "Ans=  Batch Normalization is a technique used in neural networks to stabilize and accelerate training. It normalizes the activations within mini-batches during training, reducing internal covariate shift. It helps networks converge faster, allows for higher learning rates, acts as regularization, and improves generalization. Batch Normalization is applied to layers and involves normalizing, scaling, and shifting activations."
      ],
      "metadata": {
        "id": "E3LTZxNfLfgt"
      }
    },
    {
      "cell_type": "code",
      "source": [],
      "metadata": {
        "id": "naM_OwabLuZA"
      },
      "execution_count": null,
      "outputs": []
    },
    {
      "cell_type": "markdown",
      "source": [
        "## Q2. Describe the benefits of using batch normalization during training\n",
        "\n",
        "Ans = ### The benefits of using batch normalization during training in neural networks include:\n",
        "\n",
        "1. **Faster Convergence:** Batch normalization stabilizes training, allowing for quicker convergence. Networks reach their desired accuracy in fewer training iterations.\n",
        "\n",
        "2. **Higher Learning Rates:** It enables the use of higher learning rates, which accelerates training without causing instability. This speeds up the optimization process.\n",
        "\n",
        "3. **Reduced Internal Covariate Shift:** Batch normalization mitigates the problem of internal covariate shift by normalizing activations within mini-batches. This results in more stable gradients and faster training.\n",
        "\n",
        "4. **Regularization:** It acts as a form of regularization, reducing the need for dropout or L2 regularization. This helps prevent overfitting.\n",
        "\n",
        "5. **Improved Generalization:** Batch Normalization often leads to models that generalize better to unseen data, resulting in better test performance.\n",
        "\n",
        "6. **Robustness to Initialization:** Networks with batch normalization are less sensitive to weight initialization, making it easier to train deep architectures.\n",
        "\n",
        "7. **Compatibility with Various Architectures:** Batch Normalization can be used with different types of layers, including fully connected, convolutional, and recurrent layers.\n",
        "\n",
        "8. **Differentiable Operation:** It is designed to be differentiable, allowing gradients to be computed efficiently during backpropagation."
      ],
      "metadata": {
        "id": "C_GDnW3DLxDT"
      }
    },
    {
      "cell_type": "code",
      "source": [],
      "metadata": {
        "id": "VeBECD8CL2lC"
      },
      "execution_count": null,
      "outputs": []
    },
    {
      "cell_type": "markdown",
      "source": [
        "## Q3. Discuss the working principle of batch normalization, including the normalization step and the learnable parameters.\n",
        "Ans = ### Batch Normalization (BatchNorm) works by normalizing the activations within mini-batches during training to address the problem of internal covariate shift. Here's an overview of its working principle, including the normalization step and the learnable parameters:\n",
        "\n",
        "**Normalization Step:**\n",
        "1. **Mini-Batch Statistics:** For each mini-batch during training, BatchNorm calculates two statistics: the mean μ and variance (σ^2) of the activations across the mini-batch. These statistics provide an estimate of the distribution of activations for that batch.\n",
        "\n",
        "2. **Normalization:** The activations within the mini-batch are then normalized using the calculated mean and variance. This is done element-wise for each activation x within the mini-batch:\n",
        "\n",
        "   x' =  (x - μ) / √(σ^2 + ε)\n",
        "\n",
        "   Here, x' is the normalized activation, μ is the mean, σ^2 is the variance, and ε is a small constant (e.g., 1e-5) added to the denominator for numerical stability.\n",
        "\n",
        "3. **Scaling and Shifting:** After normalization, the activations are scaled by a learnable parameter γ and shifted by another learnable parameter β:\n",
        "\n",
        "   y = \tγ x' + β\n",
        "\n",
        "   The \tγ parameter allows the network to adjust the scale of the normalized activations, and the β parameter allows it to adjust the shift. These parameters are learned during training.\n",
        "\n",
        "#### Learnable Parameters:\n",
        "\n",
        "The key components of BatchNorm are the γ and β parameters:\n",
        "\n",
        "- **γ (Scale Parameter):** It allows the network to control the scale or magnitude of the normalized activations. If \tγ is close to 1, it preserves the distribution learned during normalization. If γ is less than 1, it scales down the activations, and if it's greater than 1, it scales them up.\n",
        "\n",
        "- **β (Shift Parameter):** It allows the network to control the shift or translation of the normalized activations. It can shift the activations away from the standard normal distribution achieved through normalization.\n",
        "\n",
        "\n",
        "During training, the mean and variance are calculated for each mini-batch. However, during inference or when making predictions on a single example, the statistics used for normalization may be calculated differently. Typically, a moving average of the statistics from all mini-batches seen during training is used for normalization during inference."
      ],
      "metadata": {
        "id": "YCT5L7qCL4sj"
      }
    },
    {
      "cell_type": "code",
      "source": [],
      "metadata": {
        "id": "OmYyxci6L8-A"
      },
      "execution_count": null,
      "outputs": []
    },
    {
      "cell_type": "markdown",
      "source": [
        "# **IMPLEMENTATION**"
      ],
      "metadata": {
        "id": "dYWEs9jQOnCW"
      }
    },
    {
      "cell_type": "code",
      "source": [
        "# Importing necessary libraries\n",
        "import os\n",
        "import tensorflow as tf\n",
        "import numpy as np\n",
        "import matplotlib.pyplot as plt\n",
        "import seaborn as sns\n",
        "import time\n",
        "from keras.datasets import fashion_mnist\n",
        "plt.style.use(\"fivethirtyeight\")\n",
        "%load_ext tensorboard"
      ],
      "metadata": {
        "id": "Gd7a5DFaOn0o"
      },
      "execution_count": 1,
      "outputs": []
    },
    {
      "cell_type": "code",
      "source": [
        "if tf.test.is_gpu_available():\n",
        "    print('Running on GPU')\n",
        "else:\n",
        "    print('Running on CPU')"
      ],
      "metadata": {
        "colab": {
          "base_uri": "https://localhost:8080/"
        },
        "id": "OdpaevW4Op3h",
        "outputId": "2042f645-0bb9-4ed5-d80b-7a7a1d8efe3d"
      },
      "execution_count": 2,
      "outputs": [
        {
          "output_type": "stream",
          "name": "stderr",
          "text": [
            "WARNING:tensorflow:From <ipython-input-2-16ea5becd632>:1: is_gpu_available (from tensorflow.python.framework.test_util) is deprecated and will be removed in a future version.\n",
            "Instructions for updating:\n",
            "Use `tf.config.list_physical_devices('GPU')` instead.\n"
          ]
        },
        {
          "output_type": "stream",
          "name": "stdout",
          "text": [
            "Running on CPU\n"
          ]
        }
      ]
    },
    {
      "cell_type": "code",
      "source": [
        "#Loading the FashionMnist Dataset\n",
        "(X_train_full, y_train_full), (X_test, y_test) = fashion_mnist.load_data()\n",
        "X_train_full = X_train_full / 255.0 #Typecasting to float\n",
        "X_test = X_test / 255.0 #Typecasting to float\n",
        "X_valid, X_train = X_train_full[:5000], X_train_full[5000:]\n",
        "y_valid, y_train = y_train_full[:5000], y_train_full[5000:]"
      ],
      "metadata": {
        "colab": {
          "base_uri": "https://localhost:8080/"
        },
        "id": "udP6GjYgOr6y",
        "outputId": "4fcc12ba-1c16-447b-9341-fd6a50b02981"
      },
      "execution_count": 5,
      "outputs": [
        {
          "output_type": "stream",
          "name": "stdout",
          "text": [
            "Downloading data from https://storage.googleapis.com/tensorflow/tf-keras-datasets/train-labels-idx1-ubyte.gz\n",
            "\u001b[1m29515/29515\u001b[0m \u001b[32m━━━━━━━━━━━━━━━━━━━━\u001b[0m\u001b[37m\u001b[0m \u001b[1m0s\u001b[0m 0us/step\n",
            "Downloading data from https://storage.googleapis.com/tensorflow/tf-keras-datasets/train-images-idx3-ubyte.gz\n",
            "\u001b[1m26421880/26421880\u001b[0m \u001b[32m━━━━━━━━━━━━━━━━━━━━\u001b[0m\u001b[37m\u001b[0m \u001b[1m0s\u001b[0m 0us/step\n",
            "Downloading data from https://storage.googleapis.com/tensorflow/tf-keras-datasets/t10k-labels-idx1-ubyte.gz\n",
            "\u001b[1m5148/5148\u001b[0m \u001b[32m━━━━━━━━━━━━━━━━━━━━\u001b[0m\u001b[37m\u001b[0m \u001b[1m0s\u001b[0m 0us/step\n",
            "Downloading data from https://storage.googleapis.com/tensorflow/tf-keras-datasets/t10k-images-idx3-ubyte.gz\n",
            "\u001b[1m4422102/4422102\u001b[0m \u001b[32m━━━━━━━━━━━━━━━━━━━━\u001b[0m\u001b[37m\u001b[0m \u001b[1m0s\u001b[0m 0us/step\n"
          ]
        }
      ]
    },
    {
      "cell_type": "code",
      "source": [
        "X_train_full.shape , y_train_full.shape"
      ],
      "metadata": {
        "colab": {
          "base_uri": "https://localhost:8080/"
        },
        "id": "5rXnqXL0OvTs",
        "outputId": "130b4160-87f4-444a-9e64-e9aca6d1872e"
      },
      "execution_count": 6,
      "outputs": [
        {
          "output_type": "execute_result",
          "data": {
            "text/plain": [
              "((60000, 28, 28), (60000,))"
            ]
          },
          "metadata": {},
          "execution_count": 6
        }
      ]
    },
    {
      "cell_type": "code",
      "source": [
        "X_train.shape , y_train.shape"
      ],
      "metadata": {
        "colab": {
          "base_uri": "https://localhost:8080/"
        },
        "id": "xPPjZzSZOwPI",
        "outputId": "d0611c4c-a5cc-4596-b8fc-c4667c1205ec"
      },
      "execution_count": 7,
      "outputs": [
        {
          "output_type": "execute_result",
          "data": {
            "text/plain": [
              "((55000, 28, 28), (55000,))"
            ]
          },
          "metadata": {},
          "execution_count": 7
        }
      ]
    },
    {
      "cell_type": "code",
      "source": [
        "X_test.shape , y_test.shape"
      ],
      "metadata": {
        "colab": {
          "base_uri": "https://localhost:8080/"
        },
        "id": "DBYQHjSEOx8X",
        "outputId": "fbbcd5ef-753a-4887-eb70-75c4cb66b9e2"
      },
      "execution_count": 8,
      "outputs": [
        {
          "output_type": "execute_result",
          "data": {
            "text/plain": [
              "((10000, 28, 28), (10000,))"
            ]
          },
          "metadata": {},
          "execution_count": 8
        }
      ]
    },
    {
      "cell_type": "code",
      "source": [
        "X_valid.shape , X_valid.shape"
      ],
      "metadata": {
        "colab": {
          "base_uri": "https://localhost:8080/"
        },
        "id": "kyuKIeTnO6oR",
        "outputId": "99c4f4d7-d86b-46e4-e768-6e87815a8527"
      },
      "execution_count": 9,
      "outputs": [
        {
          "output_type": "execute_result",
          "data": {
            "text/plain": [
              "((5000, 28, 28), (5000, 28, 28))"
            ]
          },
          "metadata": {},
          "execution_count": 9
        }
      ]
    },
    {
      "cell_type": "code",
      "source": [
        "# Creating layer of model\n",
        "\n",
        "#Setting seed for code reproducability\n",
        "tf.random.set_seed(42)\n",
        "np.random.seed(42)\n",
        "\n",
        "LAYERS = [ tf.keras.layers.Flatten(input_shape=[28, 28]),\n",
        "    tf.keras.layers.Dense(300, kernel_initializer=\"he_normal\"),\n",
        "    tf.keras.layers.LeakyReLU(),\n",
        "    tf.keras.layers.Dense(100, kernel_initializer=\"he_normal\"),\n",
        "    tf.keras.layers.LeakyReLU(),\n",
        "    tf.keras.layers.Dense(10, activation=\"softmax\")]\n",
        "\n",
        "\n",
        "model = tf.keras.models.Sequential(LAYERS)"
      ],
      "metadata": {
        "colab": {
          "base_uri": "https://localhost:8080/"
        },
        "id": "4R3ONtLEO9EJ",
        "outputId": "457d816c-f2a0-46f8-c6a5-56dede327e7a"
      },
      "execution_count": 10,
      "outputs": [
        {
          "output_type": "stream",
          "name": "stderr",
          "text": [
            "/usr/local/lib/python3.10/dist-packages/keras/src/layers/reshaping/flatten.py:37: UserWarning: Do not pass an `input_shape`/`input_dim` argument to a layer. When using Sequential models, prefer using an `Input(shape)` object as the first layer in the model instead.\n",
            "  super().__init__(**kwargs)\n"
          ]
        }
      ]
    },
    {
      "cell_type": "code",
      "source": [
        "# Compiling the model\n",
        "model.compile(loss=\"sparse_categorical_crossentropy\",\n",
        "              optimizer=tf.keras.optimizers.SGD(learning_rate=1e-3),\n",
        "              metrics=[\"accuracy\"])"
      ],
      "metadata": {
        "id": "coTbAU0MO_Zn"
      },
      "execution_count": 11,
      "outputs": []
    },
    {
      "cell_type": "code",
      "source": [
        "model.summary()"
      ],
      "metadata": {
        "colab": {
          "base_uri": "https://localhost:8080/",
          "height": 340
        },
        "id": "-3MuzdChPBYG",
        "outputId": "b71d1ea6-cb85-47ba-cc20-18527d2f3c49"
      },
      "execution_count": 12,
      "outputs": [
        {
          "output_type": "display_data",
          "data": {
            "text/plain": [
              "\u001b[1mModel: \"sequential\"\u001b[0m\n"
            ],
            "text/html": [
              "<pre style=\"white-space:pre;overflow-x:auto;line-height:normal;font-family:Menlo,'DejaVu Sans Mono',consolas,'Courier New',monospace\"><span style=\"font-weight: bold\">Model: \"sequential\"</span>\n",
              "</pre>\n"
            ]
          },
          "metadata": {}
        },
        {
          "output_type": "display_data",
          "data": {
            "text/plain": [
              "┏━━━━━━━━━━━━━━━━━━━━━━━━━━━━━━━━━━━━━━┳━━━━━━━━━━━━━━━━━━━━━━━━━━━━━┳━━━━━━━━━━━━━━━━━┓\n",
              "┃\u001b[1m \u001b[0m\u001b[1mLayer (type)                        \u001b[0m\u001b[1m \u001b[0m┃\u001b[1m \u001b[0m\u001b[1mOutput Shape               \u001b[0m\u001b[1m \u001b[0m┃\u001b[1m \u001b[0m\u001b[1m        Param #\u001b[0m\u001b[1m \u001b[0m┃\n",
              "┡━━━━━━━━━━━━━━━━━━━━━━━━━━━━━━━━━━━━━━╇━━━━━━━━━━━━━━━━━━━━━━━━━━━━━╇━━━━━━━━━━━━━━━━━┩\n",
              "│ flatten (\u001b[38;5;33mFlatten\u001b[0m)                    │ (\u001b[38;5;45mNone\u001b[0m, \u001b[38;5;34m784\u001b[0m)                 │               \u001b[38;5;34m0\u001b[0m │\n",
              "├──────────────────────────────────────┼─────────────────────────────┼─────────────────┤\n",
              "│ dense (\u001b[38;5;33mDense\u001b[0m)                        │ (\u001b[38;5;45mNone\u001b[0m, \u001b[38;5;34m300\u001b[0m)                 │         \u001b[38;5;34m235,500\u001b[0m │\n",
              "├──────────────────────────────────────┼─────────────────────────────┼─────────────────┤\n",
              "│ leaky_re_lu (\u001b[38;5;33mLeakyReLU\u001b[0m)              │ (\u001b[38;5;45mNone\u001b[0m, \u001b[38;5;34m300\u001b[0m)                 │               \u001b[38;5;34m0\u001b[0m │\n",
              "├──────────────────────────────────────┼─────────────────────────────┼─────────────────┤\n",
              "│ dense_1 (\u001b[38;5;33mDense\u001b[0m)                      │ (\u001b[38;5;45mNone\u001b[0m, \u001b[38;5;34m100\u001b[0m)                 │          \u001b[38;5;34m30,100\u001b[0m │\n",
              "├──────────────────────────────────────┼─────────────────────────────┼─────────────────┤\n",
              "│ leaky_re_lu_1 (\u001b[38;5;33mLeakyReLU\u001b[0m)            │ (\u001b[38;5;45mNone\u001b[0m, \u001b[38;5;34m100\u001b[0m)                 │               \u001b[38;5;34m0\u001b[0m │\n",
              "├──────────────────────────────────────┼─────────────────────────────┼─────────────────┤\n",
              "│ dense_2 (\u001b[38;5;33mDense\u001b[0m)                      │ (\u001b[38;5;45mNone\u001b[0m, \u001b[38;5;34m10\u001b[0m)                  │           \u001b[38;5;34m1,010\u001b[0m │\n",
              "└──────────────────────────────────────┴─────────────────────────────┴─────────────────┘\n"
            ],
            "text/html": [
              "<pre style=\"white-space:pre;overflow-x:auto;line-height:normal;font-family:Menlo,'DejaVu Sans Mono',consolas,'Courier New',monospace\">┏━━━━━━━━━━━━━━━━━━━━━━━━━━━━━━━━━━━━━━┳━━━━━━━━━━━━━━━━━━━━━━━━━━━━━┳━━━━━━━━━━━━━━━━━┓\n",
              "┃<span style=\"font-weight: bold\"> Layer (type)                         </span>┃<span style=\"font-weight: bold\"> Output Shape                </span>┃<span style=\"font-weight: bold\">         Param # </span>┃\n",
              "┡━━━━━━━━━━━━━━━━━━━━━━━━━━━━━━━━━━━━━━╇━━━━━━━━━━━━━━━━━━━━━━━━━━━━━╇━━━━━━━━━━━━━━━━━┩\n",
              "│ flatten (<span style=\"color: #0087ff; text-decoration-color: #0087ff\">Flatten</span>)                    │ (<span style=\"color: #00d7ff; text-decoration-color: #00d7ff\">None</span>, <span style=\"color: #00af00; text-decoration-color: #00af00\">784</span>)                 │               <span style=\"color: #00af00; text-decoration-color: #00af00\">0</span> │\n",
              "├──────────────────────────────────────┼─────────────────────────────┼─────────────────┤\n",
              "│ dense (<span style=\"color: #0087ff; text-decoration-color: #0087ff\">Dense</span>)                        │ (<span style=\"color: #00d7ff; text-decoration-color: #00d7ff\">None</span>, <span style=\"color: #00af00; text-decoration-color: #00af00\">300</span>)                 │         <span style=\"color: #00af00; text-decoration-color: #00af00\">235,500</span> │\n",
              "├──────────────────────────────────────┼─────────────────────────────┼─────────────────┤\n",
              "│ leaky_re_lu (<span style=\"color: #0087ff; text-decoration-color: #0087ff\">LeakyReLU</span>)              │ (<span style=\"color: #00d7ff; text-decoration-color: #00d7ff\">None</span>, <span style=\"color: #00af00; text-decoration-color: #00af00\">300</span>)                 │               <span style=\"color: #00af00; text-decoration-color: #00af00\">0</span> │\n",
              "├──────────────────────────────────────┼─────────────────────────────┼─────────────────┤\n",
              "│ dense_1 (<span style=\"color: #0087ff; text-decoration-color: #0087ff\">Dense</span>)                      │ (<span style=\"color: #00d7ff; text-decoration-color: #00d7ff\">None</span>, <span style=\"color: #00af00; text-decoration-color: #00af00\">100</span>)                 │          <span style=\"color: #00af00; text-decoration-color: #00af00\">30,100</span> │\n",
              "├──────────────────────────────────────┼─────────────────────────────┼─────────────────┤\n",
              "│ leaky_re_lu_1 (<span style=\"color: #0087ff; text-decoration-color: #0087ff\">LeakyReLU</span>)            │ (<span style=\"color: #00d7ff; text-decoration-color: #00d7ff\">None</span>, <span style=\"color: #00af00; text-decoration-color: #00af00\">100</span>)                 │               <span style=\"color: #00af00; text-decoration-color: #00af00\">0</span> │\n",
              "├──────────────────────────────────────┼─────────────────────────────┼─────────────────┤\n",
              "│ dense_2 (<span style=\"color: #0087ff; text-decoration-color: #0087ff\">Dense</span>)                      │ (<span style=\"color: #00d7ff; text-decoration-color: #00d7ff\">None</span>, <span style=\"color: #00af00; text-decoration-color: #00af00\">10</span>)                  │           <span style=\"color: #00af00; text-decoration-color: #00af00\">1,010</span> │\n",
              "└──────────────────────────────────────┴─────────────────────────────┴─────────────────┘\n",
              "</pre>\n"
            ]
          },
          "metadata": {}
        },
        {
          "output_type": "display_data",
          "data": {
            "text/plain": [
              "\u001b[1m Total params: \u001b[0m\u001b[38;5;34m266,610\u001b[0m (1.02 MB)\n"
            ],
            "text/html": [
              "<pre style=\"white-space:pre;overflow-x:auto;line-height:normal;font-family:Menlo,'DejaVu Sans Mono',consolas,'Courier New',monospace\"><span style=\"font-weight: bold\"> Total params: </span><span style=\"color: #00af00; text-decoration-color: #00af00\">266,610</span> (1.02 MB)\n",
              "</pre>\n"
            ]
          },
          "metadata": {}
        },
        {
          "output_type": "display_data",
          "data": {
            "text/plain": [
              "\u001b[1m Trainable params: \u001b[0m\u001b[38;5;34m266,610\u001b[0m (1.02 MB)\n"
            ],
            "text/html": [
              "<pre style=\"white-space:pre;overflow-x:auto;line-height:normal;font-family:Menlo,'DejaVu Sans Mono',consolas,'Courier New',monospace\"><span style=\"font-weight: bold\"> Trainable params: </span><span style=\"color: #00af00; text-decoration-color: #00af00\">266,610</span> (1.02 MB)\n",
              "</pre>\n"
            ]
          },
          "metadata": {}
        },
        {
          "output_type": "display_data",
          "data": {
            "text/plain": [
              "\u001b[1m Non-trainable params: \u001b[0m\u001b[38;5;34m0\u001b[0m (0.00 B)\n"
            ],
            "text/html": [
              "<pre style=\"white-space:pre;overflow-x:auto;line-height:normal;font-family:Menlo,'DejaVu Sans Mono',consolas,'Courier New',monospace\"><span style=\"font-weight: bold\"> Non-trainable params: </span><span style=\"color: #00af00; text-decoration-color: #00af00\">0</span> (0.00 B)\n",
              "</pre>\n"
            ]
          },
          "metadata": {}
        }
      ]
    },
    {
      "cell_type": "code",
      "source": [
        "#Training and Calculating the training time\n",
        "\n",
        "#Starting time\n",
        "start = time.time()\n",
        "\n",
        "history = model.fit(X_train,\n",
        "                    y_train,\n",
        "                    epochs=15,\n",
        "                    validation_data=(X_valid,y_valid),\n",
        "                    verbose = 2\n",
        "                    )\n",
        "\n",
        "#Ending time\n",
        "end = time.time()\n",
        "\n",
        "#Total time taken\n",
        "print(f\"Runtime of the program is {end - start}\")"
      ],
      "metadata": {
        "colab": {
          "base_uri": "https://localhost:8080/"
        },
        "id": "WV4Ab1ADPC7f",
        "outputId": "6d8d2443-c46a-4c6d-81a0-de4c6087cb28"
      },
      "execution_count": 13,
      "outputs": [
        {
          "output_type": "stream",
          "name": "stdout",
          "text": [
            "Epoch 1/15\n",
            "1719/1719 - 6s - 3ms/step - accuracy: 0.6145 - loss: 1.2406 - val_accuracy: 0.7232 - val_loss: 0.8659\n",
            "Epoch 2/15\n",
            "1719/1719 - 4s - 3ms/step - accuracy: 0.7449 - loss: 0.7863 - val_accuracy: 0.7724 - val_loss: 0.7033\n",
            "Epoch 3/15\n",
            "1719/1719 - 4s - 2ms/step - accuracy: 0.7782 - loss: 0.6772 - val_accuracy: 0.7974 - val_loss: 0.6301\n",
            "Epoch 4/15\n",
            "1719/1719 - 6s - 3ms/step - accuracy: 0.7981 - loss: 0.6188 - val_accuracy: 0.8112 - val_loss: 0.5860\n",
            "Epoch 5/15\n",
            "1719/1719 - 4s - 2ms/step - accuracy: 0.8090 - loss: 0.5809 - val_accuracy: 0.8208 - val_loss: 0.5559\n",
            "Epoch 6/15\n",
            "1719/1719 - 5s - 3ms/step - accuracy: 0.8166 - loss: 0.5538 - val_accuracy: 0.8254 - val_loss: 0.5339\n",
            "Epoch 7/15\n",
            "1719/1719 - 6s - 4ms/step - accuracy: 0.8219 - loss: 0.5333 - val_accuracy: 0.8310 - val_loss: 0.5170\n",
            "Epoch 8/15\n",
            "1719/1719 - 4s - 3ms/step - accuracy: 0.8260 - loss: 0.5172 - val_accuracy: 0.8340 - val_loss: 0.5035\n",
            "Epoch 9/15\n",
            "1719/1719 - 7s - 4ms/step - accuracy: 0.8294 - loss: 0.5041 - val_accuracy: 0.8372 - val_loss: 0.4924\n",
            "Epoch 10/15\n",
            "1719/1719 - 4s - 3ms/step - accuracy: 0.8326 - loss: 0.4933 - val_accuracy: 0.8406 - val_loss: 0.4832\n",
            "Epoch 11/15\n",
            "1719/1719 - 5s - 3ms/step - accuracy: 0.8353 - loss: 0.4840 - val_accuracy: 0.8434 - val_loss: 0.4753\n",
            "Epoch 12/15\n",
            "1719/1719 - 6s - 4ms/step - accuracy: 0.8378 - loss: 0.4760 - val_accuracy: 0.8460 - val_loss: 0.4684\n",
            "Epoch 13/15\n",
            "1719/1719 - 5s - 3ms/step - accuracy: 0.8395 - loss: 0.4689 - val_accuracy: 0.8480 - val_loss: 0.4622\n",
            "Epoch 14/15\n",
            "1719/1719 - 8s - 5ms/step - accuracy: 0.8413 - loss: 0.4626 - val_accuracy: 0.8494 - val_loss: 0.4568\n",
            "Epoch 15/15\n",
            "1719/1719 - 5s - 3ms/step - accuracy: 0.8433 - loss: 0.4570 - val_accuracy: 0.8504 - val_loss: 0.4519\n",
            "Runtime of the program is 82.78625583648682\n"
          ]
        }
      ]
    },
    {
      "cell_type": "code",
      "source": [],
      "metadata": {
        "id": "joKL9aawPFGA"
      },
      "execution_count": null,
      "outputs": []
    },
    {
      "cell_type": "markdown",
      "source": [
        "\n",
        "### ***After Batch Normalization***"
      ],
      "metadata": {
        "id": "k5Yem1GyPL9U"
      }
    },
    {
      "cell_type": "code",
      "source": [
        "# delete the previous model\n",
        "del model"
      ],
      "metadata": {
        "id": "wujqo_rlPOPl"
      },
      "execution_count": 14,
      "outputs": []
    },
    {
      "cell_type": "code",
      "source": [
        "# Defing new model with batch normalization\n",
        "\n",
        "tf.random.set_seed(42)#Setting seed for code reproducability\n",
        "np.random.seed(42)\n",
        "\n",
        "LAYERS_BN = [\n",
        "    tf.keras.layers.Flatten(input_shape=[28, 28]),\n",
        "    tf.keras.layers.BatchNormalization(),\n",
        "    tf.keras.layers.Dense(300, activation=\"relu\"),\n",
        "    tf.keras.layers.BatchNormalization(),\n",
        "    tf.keras.layers.Dense(100, activation=\"relu\"),\n",
        "    tf.keras.layers.BatchNormalization(),\n",
        "    tf.keras.layers.Dense(10, activation=\"softmax\")\n",
        "]\n",
        "\n",
        "model = tf.keras.models.Sequential(LAYERS_BN)"
      ],
      "metadata": {
        "id": "ShabX4LnPUya"
      },
      "execution_count": 15,
      "outputs": []
    },
    {
      "cell_type": "code",
      "source": [
        "model.summary()"
      ],
      "metadata": {
        "colab": {
          "base_uri": "https://localhost:8080/",
          "height": 425
        },
        "id": "h-RQ7f30PWu5",
        "outputId": "b7dd03ff-3ce0-467f-9549-0a35957ed8b6"
      },
      "execution_count": 16,
      "outputs": [
        {
          "output_type": "display_data",
          "data": {
            "text/plain": [
              "\u001b[1mModel: \"sequential_1\"\u001b[0m\n"
            ],
            "text/html": [
              "<pre style=\"white-space:pre;overflow-x:auto;line-height:normal;font-family:Menlo,'DejaVu Sans Mono',consolas,'Courier New',monospace\"><span style=\"font-weight: bold\">Model: \"sequential_1\"</span>\n",
              "</pre>\n"
            ]
          },
          "metadata": {}
        },
        {
          "output_type": "display_data",
          "data": {
            "text/plain": [
              "┏━━━━━━━━━━━━━━━━━━━━━━━━━━━━━━━━━━━━━━┳━━━━━━━━━━━━━━━━━━━━━━━━━━━━━┳━━━━━━━━━━━━━━━━━┓\n",
              "┃\u001b[1m \u001b[0m\u001b[1mLayer (type)                        \u001b[0m\u001b[1m \u001b[0m┃\u001b[1m \u001b[0m\u001b[1mOutput Shape               \u001b[0m\u001b[1m \u001b[0m┃\u001b[1m \u001b[0m\u001b[1m        Param #\u001b[0m\u001b[1m \u001b[0m┃\n",
              "┡━━━━━━━━━━━━━━━━━━━━━━━━━━━━━━━━━━━━━━╇━━━━━━━━━━━━━━━━━━━━━━━━━━━━━╇━━━━━━━━━━━━━━━━━┩\n",
              "│ flatten_1 (\u001b[38;5;33mFlatten\u001b[0m)                  │ (\u001b[38;5;45mNone\u001b[0m, \u001b[38;5;34m784\u001b[0m)                 │               \u001b[38;5;34m0\u001b[0m │\n",
              "├──────────────────────────────────────┼─────────────────────────────┼─────────────────┤\n",
              "│ batch_normalization                  │ (\u001b[38;5;45mNone\u001b[0m, \u001b[38;5;34m784\u001b[0m)                 │           \u001b[38;5;34m3,136\u001b[0m │\n",
              "│ (\u001b[38;5;33mBatchNormalization\u001b[0m)                 │                             │                 │\n",
              "├──────────────────────────────────────┼─────────────────────────────┼─────────────────┤\n",
              "│ dense_3 (\u001b[38;5;33mDense\u001b[0m)                      │ (\u001b[38;5;45mNone\u001b[0m, \u001b[38;5;34m300\u001b[0m)                 │         \u001b[38;5;34m235,500\u001b[0m │\n",
              "├──────────────────────────────────────┼─────────────────────────────┼─────────────────┤\n",
              "│ batch_normalization_1                │ (\u001b[38;5;45mNone\u001b[0m, \u001b[38;5;34m300\u001b[0m)                 │           \u001b[38;5;34m1,200\u001b[0m │\n",
              "│ (\u001b[38;5;33mBatchNormalization\u001b[0m)                 │                             │                 │\n",
              "├──────────────────────────────────────┼─────────────────────────────┼─────────────────┤\n",
              "│ dense_4 (\u001b[38;5;33mDense\u001b[0m)                      │ (\u001b[38;5;45mNone\u001b[0m, \u001b[38;5;34m100\u001b[0m)                 │          \u001b[38;5;34m30,100\u001b[0m │\n",
              "├──────────────────────────────────────┼─────────────────────────────┼─────────────────┤\n",
              "│ batch_normalization_2                │ (\u001b[38;5;45mNone\u001b[0m, \u001b[38;5;34m100\u001b[0m)                 │             \u001b[38;5;34m400\u001b[0m │\n",
              "│ (\u001b[38;5;33mBatchNormalization\u001b[0m)                 │                             │                 │\n",
              "├──────────────────────────────────────┼─────────────────────────────┼─────────────────┤\n",
              "│ dense_5 (\u001b[38;5;33mDense\u001b[0m)                      │ (\u001b[38;5;45mNone\u001b[0m, \u001b[38;5;34m10\u001b[0m)                  │           \u001b[38;5;34m1,010\u001b[0m │\n",
              "└──────────────────────────────────────┴─────────────────────────────┴─────────────────┘\n"
            ],
            "text/html": [
              "<pre style=\"white-space:pre;overflow-x:auto;line-height:normal;font-family:Menlo,'DejaVu Sans Mono',consolas,'Courier New',monospace\">┏━━━━━━━━━━━━━━━━━━━━━━━━━━━━━━━━━━━━━━┳━━━━━━━━━━━━━━━━━━━━━━━━━━━━━┳━━━━━━━━━━━━━━━━━┓\n",
              "┃<span style=\"font-weight: bold\"> Layer (type)                         </span>┃<span style=\"font-weight: bold\"> Output Shape                </span>┃<span style=\"font-weight: bold\">         Param # </span>┃\n",
              "┡━━━━━━━━━━━━━━━━━━━━━━━━━━━━━━━━━━━━━━╇━━━━━━━━━━━━━━━━━━━━━━━━━━━━━╇━━━━━━━━━━━━━━━━━┩\n",
              "│ flatten_1 (<span style=\"color: #0087ff; text-decoration-color: #0087ff\">Flatten</span>)                  │ (<span style=\"color: #00d7ff; text-decoration-color: #00d7ff\">None</span>, <span style=\"color: #00af00; text-decoration-color: #00af00\">784</span>)                 │               <span style=\"color: #00af00; text-decoration-color: #00af00\">0</span> │\n",
              "├──────────────────────────────────────┼─────────────────────────────┼─────────────────┤\n",
              "│ batch_normalization                  │ (<span style=\"color: #00d7ff; text-decoration-color: #00d7ff\">None</span>, <span style=\"color: #00af00; text-decoration-color: #00af00\">784</span>)                 │           <span style=\"color: #00af00; text-decoration-color: #00af00\">3,136</span> │\n",
              "│ (<span style=\"color: #0087ff; text-decoration-color: #0087ff\">BatchNormalization</span>)                 │                             │                 │\n",
              "├──────────────────────────────────────┼─────────────────────────────┼─────────────────┤\n",
              "│ dense_3 (<span style=\"color: #0087ff; text-decoration-color: #0087ff\">Dense</span>)                      │ (<span style=\"color: #00d7ff; text-decoration-color: #00d7ff\">None</span>, <span style=\"color: #00af00; text-decoration-color: #00af00\">300</span>)                 │         <span style=\"color: #00af00; text-decoration-color: #00af00\">235,500</span> │\n",
              "├──────────────────────────────────────┼─────────────────────────────┼─────────────────┤\n",
              "│ batch_normalization_1                │ (<span style=\"color: #00d7ff; text-decoration-color: #00d7ff\">None</span>, <span style=\"color: #00af00; text-decoration-color: #00af00\">300</span>)                 │           <span style=\"color: #00af00; text-decoration-color: #00af00\">1,200</span> │\n",
              "│ (<span style=\"color: #0087ff; text-decoration-color: #0087ff\">BatchNormalization</span>)                 │                             │                 │\n",
              "├──────────────────────────────────────┼─────────────────────────────┼─────────────────┤\n",
              "│ dense_4 (<span style=\"color: #0087ff; text-decoration-color: #0087ff\">Dense</span>)                      │ (<span style=\"color: #00d7ff; text-decoration-color: #00d7ff\">None</span>, <span style=\"color: #00af00; text-decoration-color: #00af00\">100</span>)                 │          <span style=\"color: #00af00; text-decoration-color: #00af00\">30,100</span> │\n",
              "├──────────────────────────────────────┼─────────────────────────────┼─────────────────┤\n",
              "│ batch_normalization_2                │ (<span style=\"color: #00d7ff; text-decoration-color: #00d7ff\">None</span>, <span style=\"color: #00af00; text-decoration-color: #00af00\">100</span>)                 │             <span style=\"color: #00af00; text-decoration-color: #00af00\">400</span> │\n",
              "│ (<span style=\"color: #0087ff; text-decoration-color: #0087ff\">BatchNormalization</span>)                 │                             │                 │\n",
              "├──────────────────────────────────────┼─────────────────────────────┼─────────────────┤\n",
              "│ dense_5 (<span style=\"color: #0087ff; text-decoration-color: #0087ff\">Dense</span>)                      │ (<span style=\"color: #00d7ff; text-decoration-color: #00d7ff\">None</span>, <span style=\"color: #00af00; text-decoration-color: #00af00\">10</span>)                  │           <span style=\"color: #00af00; text-decoration-color: #00af00\">1,010</span> │\n",
              "└──────────────────────────────────────┴─────────────────────────────┴─────────────────┘\n",
              "</pre>\n"
            ]
          },
          "metadata": {}
        },
        {
          "output_type": "display_data",
          "data": {
            "text/plain": [
              "\u001b[1m Total params: \u001b[0m\u001b[38;5;34m271,346\u001b[0m (1.04 MB)\n"
            ],
            "text/html": [
              "<pre style=\"white-space:pre;overflow-x:auto;line-height:normal;font-family:Menlo,'DejaVu Sans Mono',consolas,'Courier New',monospace\"><span style=\"font-weight: bold\"> Total params: </span><span style=\"color: #00af00; text-decoration-color: #00af00\">271,346</span> (1.04 MB)\n",
              "</pre>\n"
            ]
          },
          "metadata": {}
        },
        {
          "output_type": "display_data",
          "data": {
            "text/plain": [
              "\u001b[1m Trainable params: \u001b[0m\u001b[38;5;34m268,978\u001b[0m (1.03 MB)\n"
            ],
            "text/html": [
              "<pre style=\"white-space:pre;overflow-x:auto;line-height:normal;font-family:Menlo,'DejaVu Sans Mono',consolas,'Courier New',monospace\"><span style=\"font-weight: bold\"> Trainable params: </span><span style=\"color: #00af00; text-decoration-color: #00af00\">268,978</span> (1.03 MB)\n",
              "</pre>\n"
            ]
          },
          "metadata": {}
        },
        {
          "output_type": "display_data",
          "data": {
            "text/plain": [
              "\u001b[1m Non-trainable params: \u001b[0m\u001b[38;5;34m2,368\u001b[0m (9.25 KB)\n"
            ],
            "text/html": [
              "<pre style=\"white-space:pre;overflow-x:auto;line-height:normal;font-family:Menlo,'DejaVu Sans Mono',consolas,'Courier New',monospace\"><span style=\"font-weight: bold\"> Non-trainable params: </span><span style=\"color: #00af00; text-decoration-color: #00af00\">2,368</span> (9.25 KB)\n",
              "</pre>\n"
            ]
          },
          "metadata": {}
        }
      ]
    },
    {
      "cell_type": "code",
      "source": [
        "bn1 = model.layers[1]"
      ],
      "metadata": {
        "id": "x-pZ8qhHPYvh"
      },
      "execution_count": 17,
      "outputs": []
    },
    {
      "cell_type": "code",
      "source": [
        "for variable in bn1.variables:\n",
        "  print(variable.name, variable.trainable)"
      ],
      "metadata": {
        "colab": {
          "base_uri": "https://localhost:8080/"
        },
        "id": "kHG_A7IyPadK",
        "outputId": "49230653-4ff0-43fa-ce16-daf873833d0b"
      },
      "execution_count": 18,
      "outputs": [
        {
          "output_type": "stream",
          "name": "stdout",
          "text": [
            "gamma True\n",
            "beta True\n",
            "moving_mean False\n",
            "moving_variance False\n"
          ]
        }
      ]
    },
    {
      "cell_type": "code",
      "source": [
        "# Compiling the model\n",
        "model.compile(loss=\"sparse_categorical_crossentropy\",\n",
        "              optimizer=tf.keras.optimizers.SGD(learning_rate=1e-3),\n",
        "              metrics=[\"accuracy\"])"
      ],
      "metadata": {
        "id": "EPiJZ6BZPcnp"
      },
      "execution_count": 19,
      "outputs": []
    },
    {
      "cell_type": "code",
      "source": [
        "#Training and Calculating the training time\n",
        "\n",
        "#Starting time\n",
        "start = time.time()\n",
        "\n",
        "history = model.fit(X_train,\n",
        "                    y_train,\n",
        "                    epochs=15,\n",
        "                    validation_data=(X_valid,y_valid),\n",
        "                    verbose = 2\n",
        "                    )\n",
        "\n",
        "#Ending time\n",
        "end = time.time()\n",
        "\n",
        "#Total time taken\n",
        "print(f\"Runtime of the program is {end - start}\")"
      ],
      "metadata": {
        "colab": {
          "base_uri": "https://localhost:8080/"
        },
        "id": "VufY8KmUPel6",
        "outputId": "b0897fe6-9ea6-485e-aade-88b72022133a"
      },
      "execution_count": 20,
      "outputs": [
        {
          "output_type": "stream",
          "name": "stdout",
          "text": [
            "Epoch 1/15\n",
            "1719/1719 - 8s - 5ms/step - accuracy: 0.7186 - loss: 0.8556 - val_accuracy: 0.8080 - val_loss: 0.5574\n",
            "Epoch 2/15\n",
            "1719/1719 - 11s - 6ms/step - accuracy: 0.8045 - loss: 0.5731 - val_accuracy: 0.8374 - val_loss: 0.4781\n",
            "Epoch 3/15\n",
            "1719/1719 - 11s - 6ms/step - accuracy: 0.8235 - loss: 0.5105 - val_accuracy: 0.8498 - val_loss: 0.4421\n",
            "Epoch 4/15\n",
            "1719/1719 - 11s - 6ms/step - accuracy: 0.8363 - loss: 0.4741 - val_accuracy: 0.8560 - val_loss: 0.4205\n",
            "Epoch 5/15\n",
            "1719/1719 - 7s - 4ms/step - accuracy: 0.8443 - loss: 0.4484 - val_accuracy: 0.8626 - val_loss: 0.4051\n",
            "Epoch 6/15\n",
            "1719/1719 - 11s - 6ms/step - accuracy: 0.8513 - loss: 0.4283 - val_accuracy: 0.8644 - val_loss: 0.3938\n",
            "Epoch 7/15\n",
            "1719/1719 - 11s - 7ms/step - accuracy: 0.8565 - loss: 0.4118 - val_accuracy: 0.8674 - val_loss: 0.3847\n",
            "Epoch 8/15\n",
            "1719/1719 - 8s - 5ms/step - accuracy: 0.8611 - loss: 0.3975 - val_accuracy: 0.8704 - val_loss: 0.3777\n",
            "Epoch 9/15\n",
            "1719/1719 - 8s - 5ms/step - accuracy: 0.8653 - loss: 0.3850 - val_accuracy: 0.8724 - val_loss: 0.3719\n",
            "Epoch 10/15\n",
            "1719/1719 - 8s - 5ms/step - accuracy: 0.8690 - loss: 0.3738 - val_accuracy: 0.8742 - val_loss: 0.3670\n",
            "Epoch 11/15\n",
            "1719/1719 - 7s - 4ms/step - accuracy: 0.8732 - loss: 0.3636 - val_accuracy: 0.8764 - val_loss: 0.3628\n",
            "Epoch 12/15\n",
            "1719/1719 - 11s - 6ms/step - accuracy: 0.8766 - loss: 0.3542 - val_accuracy: 0.8762 - val_loss: 0.3590\n",
            "Epoch 13/15\n",
            "1719/1719 - 12s - 7ms/step - accuracy: 0.8795 - loss: 0.3456 - val_accuracy: 0.8772 - val_loss: 0.3558\n",
            "Epoch 14/15\n",
            "1719/1719 - 8s - 5ms/step - accuracy: 0.8820 - loss: 0.3374 - val_accuracy: 0.8786 - val_loss: 0.3531\n",
            "Epoch 15/15\n",
            "1719/1719 - 9s - 6ms/step - accuracy: 0.8847 - loss: 0.3297 - val_accuracy: 0.8794 - val_loss: 0.3509\n",
            "Runtime of the program is 145.52168107032776\n"
          ]
        }
      ]
    },
    {
      "cell_type": "code",
      "source": [],
      "metadata": {
        "id": "RI0_cWx9QbMY"
      },
      "execution_count": null,
      "outputs": []
    },
    {
      "cell_type": "markdown",
      "source": [
        "### Observation:\n",
        "- Runtime of the program is 145.52 sec\n",
        "- accuracy: 0.8794"
      ],
      "metadata": {
        "id": "mDW_cFQuQbZP"
      }
    },
    {
      "cell_type": "code",
      "source": [],
      "metadata": {
        "id": "iBd699a1QuUh"
      },
      "execution_count": null,
      "outputs": []
    }
  ]
}